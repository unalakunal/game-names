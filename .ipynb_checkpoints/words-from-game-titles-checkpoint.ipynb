{
 "cells": [
  {
   "cell_type": "markdown",
   "metadata": {},
   "source": [
    "# Find the most repeated game titles in different areas"
   ]
  },
  {
   "cell_type": "code",
   "execution_count": 1,
   "metadata": {
    "collapsed": false
   },
   "outputs": [
    {
     "data": {
      "text/html": [
       "<div>\n",
       "<table border=\"1\" class=\"dataframe\">\n",
       "  <thead>\n",
       "    <tr style=\"text-align: right;\">\n",
       "      <th></th>\n",
       "      <th>title</th>\n",
       "      <th>genre</th>\n",
       "      <th>platform</th>\n",
       "      <th>score_phrase</th>\n",
       "      <th>score</th>\n",
       "      <th>release_year</th>\n",
       "    </tr>\n",
       "  </thead>\n",
       "  <tbody>\n",
       "    <tr>\n",
       "      <th>516</th>\n",
       "      <td>The Walking Dead: The Game -- Episode 1: A New...</td>\n",
       "      <td>Adventure</td>\n",
       "      <td>Xbox 360</td>\n",
       "      <td>Great</td>\n",
       "      <td>8.5</td>\n",
       "      <td>1970</td>\n",
       "    </tr>\n",
       "    <tr>\n",
       "      <th>519</th>\n",
       "      <td>Gex</td>\n",
       "      <td>Platformer</td>\n",
       "      <td>PlayStation</td>\n",
       "      <td>Okay</td>\n",
       "      <td>6.0</td>\n",
       "      <td>1996</td>\n",
       "    </tr>\n",
       "    <tr>\n",
       "      <th>460</th>\n",
       "      <td>NBA In the Zone</td>\n",
       "      <td>Sports</td>\n",
       "      <td>PlayStation</td>\n",
       "      <td>Mediocre</td>\n",
       "      <td>5.0</td>\n",
       "      <td>1996</td>\n",
       "    </tr>\n",
       "    <tr>\n",
       "      <th>461</th>\n",
       "      <td>Magic Carpet</td>\n",
       "      <td>Action</td>\n",
       "      <td>PlayStation</td>\n",
       "      <td>Good</td>\n",
       "      <td>7.5</td>\n",
       "      <td>1996</td>\n",
       "    </tr>\n",
       "    <tr>\n",
       "      <th>462</th>\n",
       "      <td>Power Serve 3D Tennis</td>\n",
       "      <td>Sports</td>\n",
       "      <td>PlayStation</td>\n",
       "      <td>Painful</td>\n",
       "      <td>2.0</td>\n",
       "      <td>1996</td>\n",
       "    </tr>\n",
       "  </tbody>\n",
       "</table>\n",
       "</div>"
      ],
      "text/plain": [
       "                                                 title       genre  \\\n",
       "516  The Walking Dead: The Game -- Episode 1: A New...   Adventure   \n",
       "519                                                Gex  Platformer   \n",
       "460                                    NBA In the Zone      Sports   \n",
       "461                                       Magic Carpet      Action   \n",
       "462                              Power Serve 3D Tennis      Sports   \n",
       "\n",
       "        platform score_phrase  score  release_year  \n",
       "516     Xbox 360        Great    8.5          1970  \n",
       "519  PlayStation         Okay    6.0          1996  \n",
       "460  PlayStation     Mediocre    5.0          1996  \n",
       "461  PlayStation         Good    7.5          1996  \n",
       "462  PlayStation      Painful    2.0          1996  "
      ]
     },
     "execution_count": 1,
     "metadata": {},
     "output_type": "execute_result"
    }
   ],
   "source": [
    "import pandas as pd\n",
    "import matplotlib.pyplot as plt\n",
    "import warnings\n",
    "import numpy as np\n",
    "%matplotlib inline\n",
    "warnings.filterwarnings(\"ignore\")\n",
    "\n",
    "# create a dataFrame object with title, score and release_year\n",
    "data = pd.read_csv(\"ign.csv\")[[\"title\", \"genre\", \"platform\", \"score_phrase\", \"score\", \"release_year\"]]\n",
    "\n",
    "games_by_year = data.sort('release_year')\n",
    "games_by_year.head()"
   ]
  },
  {
   "cell_type": "markdown",
   "metadata": {},
   "source": [
    "Couple of functions to make querying easier in general. No data here :("
   ]
  },
  {
   "cell_type": "code",
   "execution_count": 2,
   "metadata": {
    "collapsed": true
   },
   "outputs": [],
   "source": [
    "# Counts the words in arr and returns a DataFrame which has a number of elements specified in see_how_many parameter\n",
    "# TODO: fix with_score\n",
    "def item_counter(arr, see_how_many, with_score):\n",
    "    item_dict = {}\n",
    "    for item in arr:\n",
    "        if item in item_dict:\n",
    "            item_dict[item] += 1\n",
    "        else:\n",
    "            item_dict[item] = 1\n",
    "\n",
    "    most_used = sorted(item_dict, key = item_dict.get, reverse=True)[:see_how_many]\n",
    "    \n",
    "    res = []\n",
    "    for item in most_used:\n",
    "        res.append((item, item_dict[item]))\n",
    "\n",
    "    df = pd.DataFrame.from_records(res, columns=(\"name\", \"frequency\"))\n",
    "    df.sort(\"frequency\")\n",
    "    return df"
   ]
  },
  {
   "cell_type": "code",
   "execution_count": 3,
   "metadata": {
    "collapsed": false,
    "scrolled": true
   },
   "outputs": [],
   "source": [
    "import nltk\n",
    "import re\n",
    "from nltk.corpus import stopwords\n",
    "\n",
    "# Gets rid of meaningless words, numbers, non-letter characters in order to obtain better results\n",
    "## not_wanted (list) - A list of words to avoid\n",
    "## game_names (pandas.DataFrame) - Game titles to iterate\n",
    "def preprocess(not_wanted, game_names):\n",
    "    words = []\n",
    "    for name in game_names:\n",
    "        words_in_name = nltk.word_tokenize(name)    # Split the game names by words and extend the words array\n",
    "        for i in range(0, len(words_in_name)):\n",
    "            re_form = re.sub(r'[^a-zA-Z ]', '', words_in_name[i]).split()    # The regular expression for words only, get rid of all non-letter characters\n",
    "            if (len(re_form) > 0 and  not (re_form[0].lower() in not_wanted) ):\n",
    "                words_in_name[i] = re_form[0].lower()    # As splitting names, lower the characters to help them be found in stopwords\n",
    "                words.append(words_in_name[i])\n",
    "                \n",
    "    sw = stopwords.words(\"english\")\n",
    "    # Get rid of stopwords and numbers in words array to analyze better.\n",
    "    for i in sw:\n",
    "        while i in words:\n",
    "            words.remove(i)\n",
    "                \n",
    "    return words"
   ]
  },
  {
   "cell_type": "code",
   "execution_count": 4,
   "metadata": {
    "collapsed": true
   },
   "outputs": [],
   "source": [
    "# Generates a bar graph from a given result DataFrame\n",
    "# TODO: find a way to widen the bar graph\n",
    "def make_bar_graph(result, x_axis, y_axis):\n",
    "    bar = result[[y_axis]].plot.barh(x=result[x_axis], legend=False, align=\"center\", width=1.0, figsize=(10, 7), fontsize=12, color=np.random.rand(3,1))"
   ]
  },
  {
   "cell_type": "markdown",
   "metadata": {},
   "source": [
    "A little bit more coding and finally, a list of most repeated words in game titles in the whole dataset."
   ]
  },
  {
   "cell_type": "code",
   "execution_count": 5,
   "metadata": {
    "collapsed": false
   },
   "outputs": [],
   "source": [
    "# Unsignificant words, roman numerals and abbreviations to throw up, otherwise they can be seen in most common words many times.\n",
    "DISTRACTIONS = [\"i\", \"ii\", \"iii\", \"iv\", \"v\", \"vi\", \"vii\", \"fifa\", \"nba\", \"nfl\", \"vs\", \"k\", \"one\", \"two\", \"three\", \"four\", \"pga\", \"nhl\", \"ncaa\"]\n",
    "\n",
    "# Shows the word frequency of game titles with a bar graph\n",
    "## make_graph (boolean) - Generates a bar graph if true, otherwise prints the standart pandas representation\n",
    "## how_many (number) - Number of game instances to show\n",
    "# TODO: words preprocessing can be inside of the item_counter\n",
    "def see_every_game_name(make_graph, how_many):\n",
    "    spec = data[\"title\"]\n",
    "    # print \"Checking\", len(spec), \"games.\"\n",
    "\n",
    "    words = preprocess(DISTRACTIONS, spec)\n",
    "    result = item_counter(words, how_many, False)\n",
    "    if make_graph:\n",
    "        make_bar_graph(result, 'name', 'frequency')\n",
    "    else:\n",
    "        return result"
   ]
  },
  {
   "cell_type": "code",
   "execution_count": 6,
   "metadata": {
    "collapsed": true
   },
   "outputs": [],
   "source": [
    "# see_every_game_name(True, 20)"
   ]
  },
  {
   "cell_type": "code",
   "execution_count": 7,
   "metadata": {
    "collapsed": false
   },
   "outputs": [],
   "source": [
    "# Shows the word frequency of game titles with a bar graph using a score limit\n",
    "## min_score (number) - Game names with scores >= min_score will be considered\n",
    "## make_graph (boolean) - Generates a bar graph if true, otherwise prints the standart pandas representation\n",
    "## how_many (number) - Number of game instances to show\n",
    "def see_game_names_with_score_limit(min_score, make_graph, how_many):\n",
    "    spec = data.loc[data[\"score\"] >= min_score][\"title\"]\n",
    "    \n",
    "    # print \"Checking\", len(spec), \"games.\"\n",
    "\n",
    "    words = preprocess(DISTRACTIONS, spec)\n",
    "    result = item_counter(words, how_many, False)\n",
    "    if make_graph:\n",
    "        make_bar_graph(result, 'name', 'frequency')\n",
    "    else:\n",
    "        return result"
   ]
  },
  {
   "cell_type": "code",
   "execution_count": 8,
   "metadata": {
    "collapsed": false
   },
   "outputs": [
    {
     "data": {
      "text/html": [
       "<div>\n",
       "<table border=\"1\" class=\"dataframe\">\n",
       "  <thead>\n",
       "    <tr style=\"text-align: right;\">\n",
       "      <th></th>\n",
       "      <th>name</th>\n",
       "      <th>frequency</th>\n",
       "    </tr>\n",
       "  </thead>\n",
       "  <tbody>\n",
       "    <tr>\n",
       "      <th>0</th>\n",
       "      <td>edition</td>\n",
       "      <td>240</td>\n",
       "    </tr>\n",
       "    <tr>\n",
       "      <th>1</th>\n",
       "      <td>dead</td>\n",
       "      <td>117</td>\n",
       "    </tr>\n",
       "    <tr>\n",
       "      <th>2</th>\n",
       "      <td>world</td>\n",
       "      <td>116</td>\n",
       "    </tr>\n",
       "    <tr>\n",
       "      <th>3</th>\n",
       "      <td>game</td>\n",
       "      <td>113</td>\n",
       "    </tr>\n",
       "    <tr>\n",
       "      <th>4</th>\n",
       "      <td>episode</td>\n",
       "      <td>109</td>\n",
       "    </tr>\n",
       "    <tr>\n",
       "      <th>5</th>\n",
       "      <td>super</td>\n",
       "      <td>108</td>\n",
       "    </tr>\n",
       "    <tr>\n",
       "      <th>6</th>\n",
       "      <td>wars</td>\n",
       "      <td>103</td>\n",
       "    </tr>\n",
       "    <tr>\n",
       "      <th>7</th>\n",
       "      <td>star</td>\n",
       "      <td>101</td>\n",
       "    </tr>\n",
       "    <tr>\n",
       "      <th>8</th>\n",
       "      <td>soccer</td>\n",
       "      <td>96</td>\n",
       "    </tr>\n",
       "    <tr>\n",
       "      <th>9</th>\n",
       "      <td>pro</td>\n",
       "      <td>89</td>\n",
       "    </tr>\n",
       "  </tbody>\n",
       "</table>\n",
       "</div>"
      ],
      "text/plain": [
       "      name  frequency\n",
       "0  edition        240\n",
       "1     dead        117\n",
       "2    world        116\n",
       "3     game        113\n",
       "4  episode        109\n",
       "5    super        108\n",
       "6     wars        103\n",
       "7     star        101\n",
       "8   soccer         96\n",
       "9      pro         89"
      ]
     },
     "execution_count": 8,
     "metadata": {},
     "output_type": "execute_result"
    }
   ],
   "source": [
    "see_game_names_with_score_limit(8.0, False, 10)"
   ]
  },
  {
   "cell_type": "code",
   "execution_count": 9,
   "metadata": {
    "collapsed": false,
    "scrolled": true
   },
   "outputs": [],
   "source": [
    "# Shows the word frequency of game titles with a bar graph using a classificiation (release_year, score_phrase etc) and a key (1996, \"Amazing\" etc.)\n",
    "## column_value_tuples [tuple] - A list of tuples as (column_name, value_name) for querying the data\n",
    "## make_graph (boolean) - Generates a bar graph if true, otherwise prints the standart pandas representation\n",
    "## how_many (number) - Number of game instances to show\n",
    "def see_game_names_with_key(column_value_tuples, make_graph, how_many):\n",
    "    spec = data\n",
    "    for i in column_value_tuples:\n",
    "        column = i[0]\n",
    "        value = i[1]\n",
    "        spec = spec.loc[spec[column] == value]\n",
    "        \n",
    "    # print \"Checking\", len(spec), \"games.\"\n",
    "    \n",
    "    words = preprocess(DISTRACTIONS, spec[\"title\"])\n",
    "\n",
    "    result = item_counter(words, how_many, False)\n",
    "    if make_graph:\n",
    "        make_bar_graph(result, 'name', 'frequency')\n",
    "    else:\n",
    "        return result"
   ]
  },
  {
   "cell_type": "code",
   "execution_count": 10,
   "metadata": {
    "collapsed": false
   },
   "outputs": [
    {
     "data": {
      "image/png": "[encoded data removed]",
      "text/plain": [
       "<matplotlib.figure.Figure at 0x7f2ac86aa250>"
      ]
     },
     "metadata": {},
     "output_type": "display_data"
    }
   ],
   "source": [
    "see_game_names_with_key([(\"score_phrase\", \"Bad\")], True, 20)"
   ]
  },
  {
   "cell_type": "code",
   "execution_count": 11,
   "metadata": {
    "collapsed": false
   },
   "outputs": [
    {
     "data": {
      "image/png": "[encoded data removed]",
      "text/plain": [
       "<matplotlib.figure.Figure at 0x7f2a8b359f50>"
      ]
     },
     "metadata": {},
     "output_type": "display_data"
    }
   ],
   "source": [
    "see_game_names_with_key([(\"release_year\", 2000)], True, 20)"
   ]
  },
  {
   "cell_type": "markdown",
   "metadata": {},
   "source": [
    "Let's see some **Amazing** games in **Sports**."
   ]
  },
  {
   "cell_type": "code",
   "execution_count": 12,
   "metadata": {
    "collapsed": false
   },
   "outputs": [
    {
     "data": {
      "image/png": "[encoded data removed]",
      "text/plain": [
       "<matplotlib.figure.Figure at 0x7f2a8b260510>"
      ]
     },
     "metadata": {},
     "output_type": "display_data"
    }
   ],
   "source": [
    "see_game_names_with_key([(\"genre\", \"Sports\"), (\"score_phrase\", \"Amazing\")], True, 10)"
   ]
  },
  {
   "cell_type": "markdown",
   "metadata": {
    "collapsed": true
   },
   "source": [
    "In order to make things more interesting let's use a function to determine occurences of a word in different categories."
   ]
  },
  {
   "cell_type": "code",
   "execution_count": 34,
   "metadata": {
    "collapsed": true
   },
   "outputs": [],
   "source": [
    "# Looks for occurence times of words in the given_words array in a column type specified by the user.\n",
    "# given_words (list) - The list of words to search\n",
    "# column_value_tuples [tuple] - An array of tuples that in form (column-name, column-value-to-match)\n",
    "def word_occurences(given_words, column_value_tuples):\n",
    "    spec = data\n",
    "    for i in column_value_tuples:\n",
    "        column = i[0]\n",
    "        value = i[1]\n",
    "        spec = spec.loc[spec[column] == value]\n",
    "        \n",
    "    # print \"Checking\", len(spec), \"games.\"\n",
    "    \n",
    "    words = preprocess(DISTRACTIONS, spec[\"title\"])\n",
    "    occurences = {}\n",
    "    for word in given_words:\n",
    "        occurence = words.count(word)\n",
    "        occurences[word] = occurence\n",
    "    \n",
    "    return occurences"
   ]
  },
  {
   "cell_type": "markdown",
   "metadata": {},
   "source": [
    "Are there any masterpieces with word \"theft\" except GTA games?"
   ]
  },
  {
   "cell_type": "code",
   "execution_count": 14,
   "metadata": {
    "collapsed": false
   },
   "outputs": [
    {
     "data": {
      "text/plain": [
       "{'auto': 9, 'grand': 9, 'theft': 9}"
      ]
     },
     "execution_count": 14,
     "metadata": {},
     "output_type": "execute_result"
    }
   ],
   "source": [
    "word_occurences([\"grand\", \"theft\", \"auto\"], [(\"score_phrase\", \"Masterpiece\")])"
   ]
  },
  {
   "cell_type": "markdown",
   "metadata": {},
   "source": [
    "Apparently not. Or better, we can see which score phrase has most of this word with the following function."
   ]
  },
  {
   "cell_type": "code",
   "execution_count": 28,
   "metadata": {
    "collapsed": true
   },
   "outputs": [],
   "source": [
    "import operator\n",
    "\n",
    "# Looks for every element in words in every column type of column, and gives the best repeated results in an array of objects.\n",
    "# words (list) - An array of words to search for\n",
    "# desired_column (string) - In which column type you want to search in\n",
    "# how_many (number) - How many of them will be returned\n",
    "def where_can_i_find_the_most(words, desired_column, how_many):\n",
    "    dict_for_most = {}\n",
    "    properties = data[desired_column].unique()\n",
    "    \n",
    "    for column_type in properties:\n",
    "        dict_for_most[column_type] = word_occurences(words, [(desired_column, column_type)])\n",
    "    result_arr = []\n",
    "    #for i in range(0,times):\n",
    "        \n",
    "    #res_key = max(dict_for_most, key=dict_for_most.get)\n",
    "    #(res_key, dict_for_most[res_key])\n",
    "    slist = sorted(dict_for_most.items(), key=operator.itemgetter(1), reverse=True)\n",
    "    return slist[:how_many]"
   ]
  },
  {
   "cell_type": "markdown",
   "metadata": {},
   "source": [
    "And check for the dead platforms."
   ]
  },
  {
   "cell_type": "code",
   "execution_count": 74,
   "metadata": {
    "collapsed": false
   },
   "outputs": [
    {
     "data": {
      "text/plain": [
       "<matplotlib.axes._subplots.AxesSubplot at 0x7f2ace955d50>"
      ]
     },
     "execution_count": 74,
     "metadata": {},
     "output_type": "execute_result"
    },
    {
     "data": {
      "image/png": "[encoded data removed]",
      "text/plain": [
       "<matplotlib.figure.Figure at 0x7f2a8aa57210>"
      ]
     },
     "metadata": {},
     "output_type": "display_data"
    }
   ],
   "source": [
    "t = where_can_i_find_the_most([\"dead\"], \"platform\", 5)\n",
    "for i in range(0,len(t)):\n",
    "    t[i] = (t[i][0], t[i][1].values()[0])\n",
    "where = pd.DataFrame.from_records(t, columns=(\"platform\", \"freq\"))\n",
    "where.plot.pie(y=\"freq\", labels=where[\"platform\"], autopct='%.2f', figsize=(5,5),legend=False, fontsize=14)"
   ]
  },
  {
   "cell_type": "markdown",
   "metadata": {},
   "source": [
    "What if we can see how many games does a genre have with its own name in it? For instance \"JoJo's Bizarre Adventure HD\" has Adventure -its genre- in its name."
   ]
  },
  {
   "cell_type": "code",
   "execution_count": 76,
   "metadata": {
    "collapsed": false
   },
   "outputs": [
    {
     "data": {
      "text/html": [
       "<div>\n",
       "<table border=\"1\" class=\"dataframe\">\n",
       "  <thead>\n",
       "    <tr style=\"text-align: right;\">\n",
       "      <th></th>\n",
       "      <th>genre_name</th>\n",
       "      <th>frequency</th>\n",
       "    </tr>\n",
       "  </thead>\n",
       "  <tbody>\n",
       "    <tr>\n",
       "      <th>0</th>\n",
       "      <td>Racing</td>\n",
       "      <td>175</td>\n",
       "    </tr>\n",
       "    <tr>\n",
       "      <th>1</th>\n",
       "      <td>Sports</td>\n",
       "      <td>73</td>\n",
       "    </tr>\n",
       "    <tr>\n",
       "      <th>2</th>\n",
       "      <td>Pinball</td>\n",
       "      <td>61</td>\n",
       "    </tr>\n",
       "    <tr>\n",
       "      <th>3</th>\n",
       "      <td>Puzzle</td>\n",
       "      <td>56</td>\n",
       "    </tr>\n",
       "    <tr>\n",
       "      <th>4</th>\n",
       "      <td>Party</td>\n",
       "      <td>46</td>\n",
       "    </tr>\n",
       "    <tr>\n",
       "      <th>5</th>\n",
       "      <td>Adventure</td>\n",
       "      <td>27</td>\n",
       "    </tr>\n",
       "    <tr>\n",
       "      <th>6</th>\n",
       "      <td>Wrestling</td>\n",
       "      <td>23</td>\n",
       "    </tr>\n",
       "    <tr>\n",
       "      <th>7</th>\n",
       "      <td>Casino</td>\n",
       "      <td>15</td>\n",
       "    </tr>\n",
       "    <tr>\n",
       "      <th>8</th>\n",
       "      <td>Fighting</td>\n",
       "      <td>14</td>\n",
       "    </tr>\n",
       "    <tr>\n",
       "      <th>9</th>\n",
       "      <td>Action</td>\n",
       "      <td>10</td>\n",
       "    </tr>\n",
       "  </tbody>\n",
       "</table>\n",
       "</div>"
      ],
      "text/plain": [
       "  genre_name  frequency\n",
       "0     Racing        175\n",
       "1     Sports         73\n",
       "2    Pinball         61\n",
       "3     Puzzle         56\n",
       "4      Party         46\n",
       "5  Adventure         27\n",
       "6  Wrestling         23\n",
       "7     Casino         15\n",
       "8   Fighting         14\n",
       "9     Action         10"
      ]
     },
     "execution_count": 76,
     "metadata": {},
     "output_type": "execute_result"
    }
   ],
   "source": [
    "# game names with their genres' name in it\n",
    "genre_types = data[\"genre\"].unique()\n",
    "genre_war_counts = []\n",
    "for genre_name in genre_types:\n",
    "    if type(genre_name) is float:\n",
    "        continue\n",
    "    count = word_occurences([genre_name.lower()],[(\"genre\", genre_name)])\n",
    "    genre_war_counts.append((genre_name, count.values()[0]))\n",
    "genre_war_counts = sorted(genre_war_counts, key=lambda x : x[1], reverse=True)\n",
    "genre_war_data = pd.DataFrame.from_records(genre_war_counts, columns=(\"genre_name\", \"frequency\"))\n",
    "genre_war_data[:10]"
   ]
  },
  {
   "cell_type": "markdown",
   "metadata": {
    "collapsed": true
   },
   "source": [
    "So racing is the most self-explanatory genre by far."
   ]
  },
  {
   "cell_type": "code",
   "execution_count": null,
   "metadata": {
    "collapsed": true
   },
   "outputs": [],
   "source": [
    "#see_game_names_with_key([(\"genre\", \"Action\")], False, 220)"
   ]
  }
 ],
 "metadata": {
  "celltoolbar": "Edit Metadata",
  "kernelspec": {
   "display_name": "Python 2",
   "language": "python",
   "name": "python2"
  },
  "language_info": {
   "codemirror_mode": {
    "name": "ipython",
    "version": 2
   },
   "file_extension": ".py",
   "mimetype": "text/x-python",
   "name": "python",
   "nbconvert_exporter": "python",
   "pygments_lexer": "ipython2",
   "version": "2.7.11"
  }
 },
 "nbformat": 4,
 "nbformat_minor": 0
}
