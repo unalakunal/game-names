{
 "cells": [
  {
   "cell_type": "markdown",
   "metadata": {},
   "source": [
    "# Find the most repeated game titles in different areas"
   ]
  },
  {
   "cell_type": "code",
   "execution_count": 1,
   "metadata": {
    "collapsed": false
   },
   "outputs": [
    {
     "data": {
      "text/html": [
       "<div>\n",
       "<table border=\"1\" class=\"dataframe\">\n",
       "  <thead>\n",
       "    <tr style=\"text-align: right;\">\n",
       "      <th></th>\n",
       "      <th>title</th>\n",
       "      <th>genre</th>\n",
       "      <th>platform</th>\n",
       "      <th>score_phrase</th>\n",
       "      <th>score</th>\n",
       "      <th>release_year</th>\n",
       "    </tr>\n",
       "  </thead>\n",
       "  <tbody>\n",
       "    <tr>\n",
       "      <th>516</th>\n",
       "      <td>The Walking Dead: The Game -- Episode 1: A New...</td>\n",
       "      <td>Adventure</td>\n",
       "      <td>Xbox 360</td>\n",
       "      <td>Great</td>\n",
       "      <td>8.5</td>\n",
       "      <td>1970</td>\n",
       "    </tr>\n",
       "    <tr>\n",
       "      <th>519</th>\n",
       "      <td>Gex</td>\n",
       "      <td>Platformer</td>\n",
       "      <td>PlayStation</td>\n",
       "      <td>Okay</td>\n",
       "      <td>6.0</td>\n",
       "      <td>1996</td>\n",
       "    </tr>\n",
       "    <tr>\n",
       "      <th>460</th>\n",
       "      <td>NBA In the Zone</td>\n",
       "      <td>Sports</td>\n",
       "      <td>PlayStation</td>\n",
       "      <td>Mediocre</td>\n",
       "      <td>5.0</td>\n",
       "      <td>1996</td>\n",
       "    </tr>\n",
       "    <tr>\n",
       "      <th>461</th>\n",
       "      <td>Magic Carpet</td>\n",
       "      <td>Action</td>\n",
       "      <td>PlayStation</td>\n",
       "      <td>Good</td>\n",
       "      <td>7.5</td>\n",
       "      <td>1996</td>\n",
       "    </tr>\n",
       "    <tr>\n",
       "      <th>462</th>\n",
       "      <td>Power Serve 3D Tennis</td>\n",
       "      <td>Sports</td>\n",
       "      <td>PlayStation</td>\n",
       "      <td>Painful</td>\n",
       "      <td>2.0</td>\n",
       "      <td>1996</td>\n",
       "    </tr>\n",
       "  </tbody>\n",
       "</table>\n",
       "</div>"
      ],
      "text/plain": [
       "                                                 title       genre  \\\n",
       "516  The Walking Dead: The Game -- Episode 1: A New...   Adventure   \n",
       "519                                                Gex  Platformer   \n",
       "460                                    NBA In the Zone      Sports   \n",
       "461                                       Magic Carpet      Action   \n",
       "462                              Power Serve 3D Tennis      Sports   \n",
       "\n",
       "        platform score_phrase  score  release_year  \n",
       "516     Xbox 360        Great    8.5          1970  \n",
       "519  PlayStation         Okay    6.0          1996  \n",
       "460  PlayStation     Mediocre    5.0          1996  \n",
       "461  PlayStation         Good    7.5          1996  \n",
       "462  PlayStation      Painful    2.0          1996  "
      ]
     },
     "execution_count": 1,
     "metadata": {},
     "output_type": "execute_result"
    }
   ],
   "source": [
    "import pandas as pd\n",
    "import matplotlib.pyplot as plt\n",
    "import warnings\n",
    "import numpy as np\n",
    "%matplotlib inline\n",
    "warnings.filterwarnings(\"ignore\")\n",
    "\n",
    "# create a dataFrame object with title, score and release_year\n",
    "data = pd.read_csv(\"ign.csv\")[[\"title\", \"genre\", \"platform\", \"score_phrase\", \"score\", \"release_year\"]]\n",
    "\n",
    "games_by_year = data.sort('release_year')\n",
    "games_by_year.head()"
   ]
  },
  {
   "cell_type": "markdown",
   "metadata": {},
   "source": [
    "Couple of functions to make querying easier in general. No data here :("
   ]
  },
  {
   "cell_type": "code",
   "execution_count": 2,
   "metadata": {
    "collapsed": true
   },
   "outputs": [],
   "source": [
    "# Counts the words in arr and returns a DataFrame which has a number of elements specified in see_how_many parameter\n",
    "# TODO: fix with_score\n",
    "def item_counter(arr, see_how_many, with_score):\n",
    "    item_dict = {}\n",
    "    for item in arr:\n",
    "        if item in item_dict:\n",
    "            item_dict[item] += 1\n",
    "        else:\n",
    "            item_dict[item] = 1\n",
    "\n",
    "    most_used = sorted(item_dict, key = item_dict.get, reverse=True)[:see_how_many]\n",
    "    \n",
    "    res = []\n",
    "    for item in most_used:\n",
    "        res.append((item, item_dict[item]))\n",
    "\n",
    "    df = pd.DataFrame.from_records(res, columns=(\"name\", \"frequency\"))\n",
    "    df.sort(\"frequency\")\n",
    "    return df"
   ]
  },
  {
   "cell_type": "code",
   "execution_count": 3,
   "metadata": {
    "collapsed": false,
    "scrolled": true
   },
   "outputs": [],
   "source": [
    "import nltk\n",
    "import re\n",
    "from nltk.corpus import stopwords\n",
    "\n",
    "# Gets rid of meaningless words, numbers, non-letter characters in order to obtain better results\n",
    "## not_wanted (list) - A list of words to avoid\n",
    "## game_names (pandas.DataFrame) - Game titles to iterate\n",
    "def preprocess(not_wanted, game_names):\n",
    "    words = []\n",
    "    for name in game_names:\n",
    "        words_in_name = nltk.word_tokenize(name)    # Split the game names by words and extend the words array\n",
    "        for i in range(0, len(words_in_name)):\n",
    "            re_form = re.sub(r'[^a-zA-Z ]', '', words_in_name[i]).split()    # The regular expression for words only, get rid of all non-letter characters\n",
    "            if (len(re_form) > 0 and  not (re_form[0].lower() in not_wanted) ):\n",
    "                words_in_name[i] = re_form[0].lower()    # As splitting names, lower the characters to help them be found in stopwords\n",
    "                words.append(words_in_name[i])\n",
    "                \n",
    "    sw = stopwords.words(\"english\")\n",
    "    # Get rid of stopwords and numbers in words array to analyze better.\n",
    "    for i in sw:\n",
    "        while i in words:\n",
    "            words.remove(i)\n",
    "                \n",
    "    return words"
   ]
  },
  {
   "cell_type": "code",
   "execution_count": 4,
   "metadata": {
    "collapsed": true
   },
   "outputs": [],
   "source": [
    "# Generates a bar graph from a given result DataFrame\n",
    "# TODO: find a way to widen the bar graph\n",
    "def make_bar_graph(result, x_axis, y_axis):\n",
    "    bar = result[[y_axis]].plot.barh(x=result[x_axis], legend=False, align=\"center\", width=1.0, figsize=(10, 7), fontsize=12, color=np.random.rand(3,1))"
   ]
  },
  {
   "cell_type": "markdown",
   "metadata": {},
   "source": [
    "A little bit more coding and finally, a list of most repeated words in game titles in the whole dataset."
   ]
  },
  {
   "cell_type": "code",
   "execution_count": 5,
   "metadata": {
    "collapsed": false
   },
   "outputs": [],
   "source": [
    "# Unsignificant words, roman numerals and abbreviations to throw up, otherwise they can be seen in most common words many times.\n",
    "DISTRACTIONS = [\"i\", \"ii\", \"iii\", \"iv\", \"v\", \"vi\", \"vii\", \"fifa\", \"nba\", \"nfl\", \"vs\", \"k\", \"one\", \"two\", \"three\", \"four\", \"pga\", \"nhl\", \"ncaa\"]\n",
    "\n",
    "# Shows the word frequency of game titles with a bar graph\n",
    "## make_graph (boolean) - Generates a bar graph if true, otherwise prints the standart pandas representation\n",
    "## how_many (number) - Number of game instances to show\n",
    "# TODO: words preprocessing can be inside of the item_counter\n",
    "def see_every_game_name(make_graph, how_many):\n",
    "    spec = data[\"title\"]\n",
    "    print \"Checking\", len(spec), \"games.\"\n",
    "\n",
    "    words = preprocess(DISTRACTIONS, spec)\n",
    "    result = item_counter(words, how_many, False)\n",
    "    if make_graph:\n",
    "        make_bar_graph(result, 'name', 'frequency')\n",
    "    else:\n",
    "        return result"
   ]
  },
  {
   "cell_type": "code",
   "execution_count": 6,
   "metadata": {
    "collapsed": true
   },
   "outputs": [],
   "source": [
    "# see_every_game_name(True, 20)"
   ]
  },
  {
   "cell_type": "code",
   "execution_count": 7,
   "metadata": {
    "collapsed": false
   },
   "outputs": [],
   "source": [
    "# Shows the word frequency of game titles with a bar graph using a score limit\n",
    "## min_score (number) - Game names with scores >= min_score will be considered\n",
    "## make_graph (boolean) - Generates a bar graph if true, otherwise prints the standart pandas representation\n",
    "## how_many (number) - Number of game instances to show\n",
    "def see_game_names_with_score_limit(min_score, make_graph, how_many):\n",
    "    spec = data.loc[data[\"score\"] >= min_score][\"title\"]\n",
    "    \n",
    "    print \"Checking\", len(spec), \"games.\"\n",
    "\n",
    "    words = preprocess(DISTRACTIONS, spec)\n",
    "    result = item_counter(words, how_many, False)\n",
    "    if make_graph:\n",
    "        make_bar_graph(result, 'name', 'frequency')\n",
    "    else:\n",
    "        return result"
   ]
  },
  {
   "cell_type": "code",
   "execution_count": 8,
   "metadata": {
    "collapsed": false
   },
   "outputs": [
    {
     "name": "stdout",
     "output_type": "stream",
     "text": [
      "Checking 6632 games.\n"
     ]
    },
    {
     "data": {
      "text/html": [
       "<div>\n",
       "<table border=\"1\" class=\"dataframe\">\n",
       "  <thead>\n",
       "    <tr style=\"text-align: right;\">\n",
       "      <th></th>\n",
       "      <th>name</th>\n",
       "      <th>frequency</th>\n",
       "    </tr>\n",
       "  </thead>\n",
       "  <tbody>\n",
       "    <tr>\n",
       "      <th>0</th>\n",
       "      <td>edition</td>\n",
       "      <td>240</td>\n",
       "    </tr>\n",
       "    <tr>\n",
       "      <th>1</th>\n",
       "      <td>dead</td>\n",
       "      <td>117</td>\n",
       "    </tr>\n",
       "    <tr>\n",
       "      <th>2</th>\n",
       "      <td>world</td>\n",
       "      <td>116</td>\n",
       "    </tr>\n",
       "    <tr>\n",
       "      <th>3</th>\n",
       "      <td>game</td>\n",
       "      <td>113</td>\n",
       "    </tr>\n",
       "    <tr>\n",
       "      <th>4</th>\n",
       "      <td>episode</td>\n",
       "      <td>109</td>\n",
       "    </tr>\n",
       "    <tr>\n",
       "      <th>5</th>\n",
       "      <td>super</td>\n",
       "      <td>108</td>\n",
       "    </tr>\n",
       "    <tr>\n",
       "      <th>6</th>\n",
       "      <td>wars</td>\n",
       "      <td>103</td>\n",
       "    </tr>\n",
       "    <tr>\n",
       "      <th>7</th>\n",
       "      <td>star</td>\n",
       "      <td>101</td>\n",
       "    </tr>\n",
       "    <tr>\n",
       "      <th>8</th>\n",
       "      <td>soccer</td>\n",
       "      <td>96</td>\n",
       "    </tr>\n",
       "    <tr>\n",
       "      <th>9</th>\n",
       "      <td>pro</td>\n",
       "      <td>89</td>\n",
       "    </tr>\n",
       "  </tbody>\n",
       "</table>\n",
       "</div>"
      ],
      "text/plain": [
       "      name  frequency\n",
       "0  edition        240\n",
       "1     dead        117\n",
       "2    world        116\n",
       "3     game        113\n",
       "4  episode        109\n",
       "5    super        108\n",
       "6     wars        103\n",
       "7     star        101\n",
       "8   soccer         96\n",
       "9      pro         89"
      ]
     },
     "execution_count": 8,
     "metadata": {},
     "output_type": "execute_result"
    }
   ],
   "source": [
    "see_game_names_with_score_limit(8.0, False, 10)"
   ]
  },
  {
   "cell_type": "code",
   "execution_count": 9,
   "metadata": {
    "collapsed": false,
    "scrolled": true
   },
   "outputs": [],
   "source": [
    "# Shows the word frequency of game titles with a bar graph using a classificiation (release_year, score_phrase etc) and a key (1996, \"Amazing\" etc.)\n",
    "## column_value_tuples [tuple] - A list of tuples as (column_name, value_name) for querying the data\n",
    "## make_graph (boolean) - Generates a bar graph if true, otherwise prints the standart pandas representation\n",
    "## how_many (number) - Number of game instances to show\n",
    "def see_game_names_with_key(column_value_tuples, make_graph, how_many):\n",
    "    spec = data\n",
    "    for i in column_value_tuples:\n",
    "        column = i[0]\n",
    "        value = i[1]\n",
    "        spec = spec.loc[spec[column] == value]\n",
    "        \n",
    "    print \"Checking\", len(spec), \"games.\"\n",
    "    \n",
    "    words = preprocess(DISTRACTIONS, spec[\"title\"])\n",
    "\n",
    "    result = item_counter(words, how_many, False)\n",
    "    if make_graph:\n",
    "        make_bar_graph(result, 'name', 'frequency')\n",
    "    else:\n",
    "        return result"
   ]
  },
  {
   "cell_type": "code",
   "execution_count": 10,
   "metadata": {
    "collapsed": false
   },
   "outputs": [
    {
     "name": "stdout",
     "output_type": "stream",
     "text": [
      "Checking 1269 games.\n"
     ]
    },
    {
     "data": {
      "image/png": "[encoded data removed]",
      "text/plain": [
       "<matplotlib.figure.Figure at 0x7f7da46d4150>"
      ]
     },
     "metadata": {},
     "output_type": "display_data"
    }
   ],
   "source": [
    "see_game_names_with_key([(\"score_phrase\", \"Bad\")], True, 20)"
   ]
  },
  {
   "cell_type": "code",
   "execution_count": 11,
   "metadata": {
    "collapsed": false
   },
   "outputs": [
    {
     "name": "stdout",
     "output_type": "stream",
     "text": [
      "Checking 1045 games.\n"
     ]
    },
    {
     "data": {
      "image/png": "[encoded data removed]",
      "text/plain": [
       "<matplotlib.figure.Figure at 0x7f7d66a93590>"
      ]
     },
     "metadata": {},
     "output_type": "display_data"
    }
   ],
   "source": [
    "see_game_names_with_key([(\"release_year\", 2000)], True, 20)"
   ]
  },
  {
   "cell_type": "markdown",
   "metadata": {},
   "source": [
    "Let's see some **Amazing** games in **Sports**."
   ]
  },
  {
   "cell_type": "code",
   "execution_count": 12,
   "metadata": {
    "collapsed": false
   },
   "outputs": [
    {
     "name": "stdout",
     "output_type": "stream",
     "text": [
      "Checking 196 games.\n"
     ]
    },
    {
     "data": {
      "image/png": "[encoded data removed]",
      "text/plain": [
       "<matplotlib.figure.Figure at 0x7f7d666ca810>"
      ]
     },
     "metadata": {},
     "output_type": "display_data"
    }
   ],
   "source": [
    "see_game_names_with_key([(\"genre\", \"Sports\"), (\"score_phrase\", \"Amazing\")], True, 10)"
   ]
  },
  {
   "cell_type": "markdown",
   "metadata": {
    "collapsed": true
   },
   "source": [
    "In order to make things more interesting let's use a function to determine occurences of a word in different categories."
   ]
  },
  {
   "cell_type": "code",
   "execution_count": 13,
   "metadata": {
    "collapsed": true
   },
   "outputs": [],
   "source": [
    "def word_occurences(given_words, column_value_tuples):\n",
    "    spec = data\n",
    "    for i in column_value_tuples:\n",
    "        column = i[0]\n",
    "        value = i[1]\n",
    "        spec = spec.loc[spec[column] == value]\n",
    "        \n",
    "    print \"Checking\", len(spec), \"games.\"\n",
    "    \n",
    "    words = preprocess(DISTRACTIONS, spec[\"title\"])\n",
    "    occurences = {}\n",
    "    for word in given_words:\n",
    "        occurence = words.count(word)\n",
    "        occurences[word] = occurence\n",
    "    \n",
    "    return occurences"
   ]
  },
  {
   "cell_type": "markdown",
   "metadata": {},
   "source": [
    "Are there any masterpieces with word \"theft\" except GTA games?"
   ]
  },
  {
   "cell_type": "code",
   "execution_count": 14,
   "metadata": {
    "collapsed": false
   },
   "outputs": [
    {
     "name": "stdout",
     "output_type": "stream",
     "text": [
      "Checking 55 games.\n"
     ]
    },
    {
     "data": {
      "text/plain": [
       "{'auto': 9, 'grand': 9, 'theft': 9}"
      ]
     },
     "execution_count": 14,
     "metadata": {},
     "output_type": "execute_result"
    }
   ],
   "source": [
    "word_occurences([\"grand\", \"theft\", \"auto\"], [(\"score_phrase\", \"Masterpiece\")])"
   ]
  },
  {
   "cell_type": "markdown",
   "metadata": {},
   "source": [
    "Apparently not. Or better, we can see which score phrase has most of this word with the following function."
   ]
  },
  {
   "cell_type": "code",
   "execution_count": 15,
   "metadata": {
    "collapsed": true
   },
   "outputs": [],
   "source": [
    "def where_can_i_find_the_most(words, desired_column):\n",
    "    dict_for_most = {}\n",
    "    properties = data[desired_column].unique()\n",
    "    \n",
    "    for column_type in properties:\n",
    "        dict_for_most[column_type] = word_occurences(words, [(desired_column, column_type)])\n",
    "    return dict_for_most"
   ]
  },
  {
   "cell_type": "code",
   "execution_count": 16,
   "metadata": {
    "collapsed": false
   },
   "outputs": [
    {
     "name": "stdout",
     "output_type": "stream",
     "text": [
      "Checking 823 games.\n",
      "Checking 776 games.\n",
      "Checking 1916 games.\n",
      "Checking 1071 games.\n",
      "Checking 547 games.\n",
      "Checking 980 games.\n",
      "Checking 0 games.\n",
      "Checking 765 games.\n",
      "Checking 1175 games.\n",
      "Checking 3797 games.\n",
      "Checking 330 games.\n",
      "Checking 1610 games.\n",
      "Checking 371 games.\n",
      "Checking 116 games.\n",
      "Checking 1228 games.\n",
      "Checking 77 games.\n",
      "Checking 210 games.\n",
      "Checking 22 games.\n",
      "Checking 567 games.\n",
      "Checking 32 games.\n",
      "Checking 125 games.\n",
      "Checking 200 games.\n",
      "Checking 89 games.\n",
      "Checking 25 games.\n",
      "Checking 134 games.\n",
      "Checking 77 games.\n",
      "Checking 39 games.\n",
      "Checking 44 games.\n",
      "Checking 39 games.\n",
      "Checking 196 games.\n",
      "Checking 141 games.\n",
      "Checking 32 games.\n",
      "Checking 47 games.\n",
      "Checking 6 games.\n",
      "Checking 54 games.\n",
      "Checking 1 games.\n",
      "Checking 54 games.\n",
      "Checking 24 games.\n",
      "Checking 77 games.\n",
      "Checking 112 games.\n",
      "Checking 31 games.\n",
      "Checking 5 games.\n",
      "Checking 13 games.\n",
      "Checking 37 games.\n",
      "Checking 119 games.\n",
      "Checking 3 games.\n",
      "Checking 20 games.\n",
      "Checking 82 games.\n",
      "Checking 6 games.\n",
      "Checking 1 games.\n",
      "Checking 25 games.\n",
      "Checking 2 games.\n",
      "Checking 11 games.\n",
      "Checking 108 games.\n",
      "Checking 9 games.\n",
      "Checking 1 games.\n",
      "Checking 5 games.\n",
      "Checking 14 games.\n",
      "Checking 4 games.\n",
      "Checking 3 games.\n",
      "Checking 8 games.\n",
      "Checking 3 games.\n",
      "Checking 2 games.\n",
      "Checking 3 games.\n",
      "Checking 1 games.\n",
      "Checking 1 games.\n",
      "Checking 2 games.\n",
      "Checking 3 games.\n",
      "Checking 1 games.\n",
      "Checking 2 games.\n",
      "Checking 2 games.\n",
      "Checking 9 games.\n",
      "Checking 11 games.\n",
      "Checking 20 games.\n",
      "Checking 1 games.\n",
      "Checking 7 games.\n",
      "Checking 2 games.\n",
      "Checking 2 games.\n",
      "Checking 1 games.\n",
      "Checking 2 games.\n",
      "Checking 5 games.\n",
      "Checking 11 games.\n",
      "Checking 1 games.\n",
      "Checking 3 games.\n",
      "Checking 3 games.\n",
      "Checking 4 games.\n",
      "Checking 1 games.\n",
      "Checking 8 games.\n",
      "Checking 1 games.\n",
      "Checking 4 games.\n",
      "Checking 1 games.\n",
      "Checking 1 games.\n",
      "Checking 1 games.\n",
      "Checking 1 games.\n",
      "Checking 1 games.\n",
      "Checking 1 games.\n",
      "Checking 2 games.\n",
      "Checking 4 games.\n",
      "Checking 5 games.\n",
      "Checking 1 games.\n",
      "Checking 3 games.\n",
      "Checking 1 games.\n",
      "Checking 1 games.\n",
      "Checking 2 games.\n",
      "Checking 1 games.\n",
      "Checking 3 games.\n",
      "Checking 1 games.\n",
      "Checking 1 games.\n",
      "Checking 1 games.\n",
      "Checking 1 games.\n",
      "Checking 1 games.\n",
      "Checking 2 games.\n",
      "Checking 1 games.\n"
     ]
    },
    {
     "data": {
      "text/plain": [
       "{nan: {'racing': 0},\n",
       " 'Action': {'racing': 2},\n",
       " 'Action, Adventure': {'racing': 0},\n",
       " 'Action, Compilation': {'racing': 0},\n",
       " 'Action, Editor': {'racing': 0},\n",
       " 'Action, Platformer': {'racing': 0},\n",
       " 'Action, Puzzle': {'racing': 0},\n",
       " 'Action, RPG': {'racing': 0},\n",
       " 'Action, Simulation': {'racing': 0},\n",
       " 'Action, Strategy': {'racing': 0},\n",
       " 'Adult, Card': {'racing': 0},\n",
       " 'Adventure': {'racing': 0},\n",
       " 'Adventure, Adult': {'racing': 0},\n",
       " 'Adventure, Adventure': {'racing': 0},\n",
       " 'Adventure, Compilation': {'racing': 0},\n",
       " 'Adventure, Episodic': {'racing': 0},\n",
       " 'Adventure, Platformer': {'racing': 0},\n",
       " 'Adventure, RPG': {'racing': 0},\n",
       " 'Baseball': {'racing': 0},\n",
       " 'Battle': {'racing': 0},\n",
       " 'Board': {'racing': 0},\n",
       " 'Board, Compilation': {'racing': 0},\n",
       " 'Card': {'racing': 0},\n",
       " 'Card, Battle': {'racing': 0},\n",
       " 'Card, Compilation': {'racing': 0},\n",
       " 'Card, RPG': {'racing': 0},\n",
       " 'Casino': {'racing': 0},\n",
       " 'Compilation': {'racing': 0},\n",
       " 'Compilation, Compilation': {'racing': 0},\n",
       " 'Compilation, RPG': {'racing': 0},\n",
       " 'Educational': {'racing': 0},\n",
       " 'Educational, Action': {'racing': 0},\n",
       " 'Educational, Adventure': {'racing': 0},\n",
       " 'Educational, Card': {'racing': 0},\n",
       " 'Educational, Productivity': {'racing': 0},\n",
       " 'Educational, Puzzle': {'racing': 0},\n",
       " 'Educational, Simulation': {'racing': 0},\n",
       " 'Educational, Trivia': {'racing': 0},\n",
       " 'Fighting': {'racing': 0},\n",
       " 'Fighting, Action': {'racing': 0},\n",
       " 'Fighting, Adventure': {'racing': 0},\n",
       " 'Fighting, Compilation': {'racing': 0},\n",
       " 'Fighting, RPG': {'racing': 0},\n",
       " 'Fighting, Simulation': {'racing': 0},\n",
       " 'Flight': {'racing': 0},\n",
       " 'Flight, Action': {'racing': 0},\n",
       " 'Flight, Racing': {'racing': 0},\n",
       " 'Flight, Simulation': {'racing': 0},\n",
       " 'Hardware': {'racing': 0},\n",
       " 'Hunting': {'racing': 0},\n",
       " 'Hunting, Action': {'racing': 0},\n",
       " 'Hunting, Simulation': {'racing': 0},\n",
       " 'Music': {'racing': 0},\n",
       " 'Music, Action': {'racing': 0},\n",
       " 'Music, Adventure': {'racing': 0},\n",
       " 'Music, Compilation': {'racing': 0},\n",
       " 'Music, Editor': {'racing': 0},\n",
       " 'Music, RPG': {'racing': 0},\n",
       " 'Other': {'racing': 0},\n",
       " 'Other, Action': {'racing': 0},\n",
       " 'Other, Adventure': {'racing': 0},\n",
       " 'Party': {'racing': 0},\n",
       " 'Pinball': {'racing': 0},\n",
       " 'Pinball, Compilation': {'racing': 0},\n",
       " 'Platformer': {'racing': 0},\n",
       " 'Platformer, Action': {'racing': 0},\n",
       " 'Platformer, Adventure': {'racing': 0},\n",
       " 'Productivity': {'racing': 0},\n",
       " 'Productivity, Action': {'racing': 0},\n",
       " 'Puzzle': {'racing': 0},\n",
       " 'Puzzle, Action': {'racing': 0},\n",
       " 'Puzzle, Adventure': {'racing': 0},\n",
       " 'Puzzle, Compilation': {'racing': 0},\n",
       " 'Puzzle, Platformer': {'racing': 0},\n",
       " 'Puzzle, RPG': {'racing': 0},\n",
       " 'Puzzle, Word Game': {'racing': 0},\n",
       " 'RPG': {'racing': 0},\n",
       " 'RPG, Action': {'racing': 0},\n",
       " 'RPG, Compilation': {'racing': 0},\n",
       " 'RPG, Editor': {'racing': 0},\n",
       " 'RPG, Simulation': {'racing': 0},\n",
       " 'Racing': {'racing': 175},\n",
       " 'Racing, Action': {'racing': 23},\n",
       " 'Racing, Compilation': {'racing': 0},\n",
       " 'Racing, Editor': {'racing': 0},\n",
       " 'Racing, Shooter': {'racing': 0},\n",
       " 'Racing, Simulation': {'racing': 2},\n",
       " 'Shooter': {'racing': 0},\n",
       " 'Shooter, Adventure': {'racing': 0},\n",
       " 'Shooter, First-Person': {'racing': 0},\n",
       " 'Shooter, Platformer': {'racing': 0},\n",
       " 'Shooter, RPG': {'racing': 0},\n",
       " 'Simulation': {'racing': 0},\n",
       " 'Simulation, Adventure': {'racing': 0},\n",
       " 'Sports': {'racing': 1},\n",
       " 'Sports, Action': {'racing': 0},\n",
       " 'Sports, Baseball': {'racing': 0},\n",
       " 'Sports, Compilation': {'racing': 0},\n",
       " 'Sports, Editor': {'racing': 0},\n",
       " 'Sports, Fighting': {'racing': 0},\n",
       " 'Sports, Golf': {'racing': 0},\n",
       " 'Sports, Other': {'racing': 0},\n",
       " 'Sports, Party': {'racing': 0},\n",
       " 'Sports, Racing': {'racing': 1},\n",
       " 'Sports, Simulation': {'racing': 0},\n",
       " 'Strategy': {'racing': 0},\n",
       " 'Strategy, Compilation': {'racing': 0},\n",
       " 'Strategy, RPG': {'racing': 0},\n",
       " 'Strategy, Simulation': {'racing': 0},\n",
       " 'Trivia': {'racing': 0},\n",
       " 'Virtual Pet': {'racing': 0},\n",
       " 'Wrestling': {'racing': 0},\n",
       " 'Wrestling, Simulation': {'racing': 0}}"
      ]
     },
     "execution_count": 16,
     "metadata": {},
     "output_type": "execute_result"
    }
   ],
   "source": [
    "asd = where_can_i_find_the_most([\"racing\"], \"genre\")\n",
    "asd"
   ]
  },
  {
   "cell_type": "markdown",
   "metadata": {},
   "source": [
    "The pie chart of the solutions."
   ]
  },
  {
   "cell_type": "code",
   "execution_count": null,
   "metadata": {
    "collapsed": false
   },
   "outputs": [],
   "source": [
    "from matplotlib.pyplot import pie, show\n",
    "vs = []\n",
    "ks = []\n",
    "for v in asd.values():\n",
    "    vs.append(float(v.values()[0]))\n",
    "for k in asd.keys():\n",
    "    ks.append(k)\n",
    "\n",
    "print vs\n",
    "print ks"
   ]
  },
  {
   "cell_type": "code",
   "execution_count": null,
   "metadata": {
    "collapsed": true
   },
   "outputs": [],
   "source": []
  },
  {
   "cell_type": "code",
   "execution_count": null,
   "metadata": {
    "collapsed": true
   },
   "outputs": [],
   "source": []
  }
 ],
 "metadata": {
  "celltoolbar": "Edit Metadata",
  "kernelspec": {
   "display_name": "Python 2",
   "language": "python",
   "name": "python2"
  },
  "language_info": {
   "codemirror_mode": {
    "name": "ipython",
    "version": 2
   },
   "file_extension": ".py",
   "mimetype": "text/x-python",
   "name": "python",
   "nbconvert_exporter": "python",
   "pygments_lexer": "ipython2",
   "version": "2.7.11"
  }
 },
 "nbformat": 4,
 "nbformat_minor": 0
}
