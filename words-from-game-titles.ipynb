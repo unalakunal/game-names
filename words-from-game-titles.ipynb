{
 "cells": [
  {
   "cell_type": "markdown",
   "metadata": {},
   "source": [
    "# Find the most repeated game titles in years"
   ]
  },
  {
   "cell_type": "markdown",
   "metadata": {},
   "source": [
    "Sort game titles by their release year."
   ]
  },
  {
   "cell_type": "code",
   "execution_count": 1,
   "metadata": {
    "collapsed": false
   },
   "outputs": [
    {
     "data": {
      "text/html": [
       "<div>\n",
       "<table border=\"1\" class=\"dataframe\">\n",
       "  <thead>\n",
       "    <tr style=\"text-align: right;\">\n",
       "      <th></th>\n",
       "      <th>title</th>\n",
       "      <th>genre</th>\n",
       "      <th>platform</th>\n",
       "      <th>score_phrase</th>\n",
       "      <th>score</th>\n",
       "      <th>release_year</th>\n",
       "    </tr>\n",
       "  </thead>\n",
       "  <tbody>\n",
       "    <tr>\n",
       "      <th>516</th>\n",
       "      <td>The Walking Dead: The Game -- Episode 1: A New...</td>\n",
       "      <td>Adventure</td>\n",
       "      <td>Xbox 360</td>\n",
       "      <td>Great</td>\n",
       "      <td>8.5</td>\n",
       "      <td>1970</td>\n",
       "    </tr>\n",
       "    <tr>\n",
       "      <th>519</th>\n",
       "      <td>Gex</td>\n",
       "      <td>Platformer</td>\n",
       "      <td>PlayStation</td>\n",
       "      <td>Okay</td>\n",
       "      <td>6.0</td>\n",
       "      <td>1996</td>\n",
       "    </tr>\n",
       "    <tr>\n",
       "      <th>460</th>\n",
       "      <td>NBA In the Zone</td>\n",
       "      <td>Sports</td>\n",
       "      <td>PlayStation</td>\n",
       "      <td>Mediocre</td>\n",
       "      <td>5.0</td>\n",
       "      <td>1996</td>\n",
       "    </tr>\n",
       "    <tr>\n",
       "      <th>461</th>\n",
       "      <td>Magic Carpet</td>\n",
       "      <td>Action</td>\n",
       "      <td>PlayStation</td>\n",
       "      <td>Good</td>\n",
       "      <td>7.5</td>\n",
       "      <td>1996</td>\n",
       "    </tr>\n",
       "    <tr>\n",
       "      <th>462</th>\n",
       "      <td>Power Serve 3D Tennis</td>\n",
       "      <td>Sports</td>\n",
       "      <td>PlayStation</td>\n",
       "      <td>Painful</td>\n",
       "      <td>2.0</td>\n",
       "      <td>1996</td>\n",
       "    </tr>\n",
       "  </tbody>\n",
       "</table>\n",
       "</div>"
      ],
      "text/plain": [
       "                                                 title       genre  \\\n",
       "516  The Walking Dead: The Game -- Episode 1: A New...   Adventure   \n",
       "519                                                Gex  Platformer   \n",
       "460                                    NBA In the Zone      Sports   \n",
       "461                                       Magic Carpet      Action   \n",
       "462                              Power Serve 3D Tennis      Sports   \n",
       "\n",
       "        platform score_phrase  score  release_year  \n",
       "516     Xbox 360        Great    8.5          1970  \n",
       "519  PlayStation         Okay    6.0          1996  \n",
       "460  PlayStation     Mediocre    5.0          1996  \n",
       "461  PlayStation         Good    7.5          1996  \n",
       "462  PlayStation      Painful    2.0          1996  "
      ]
     },
     "execution_count": 1,
     "metadata": {},
     "output_type": "execute_result"
    }
   ],
   "source": [
    "import pandas as pd\n",
    "import matplotlib.pyplot as plt\n",
    "import warnings\n",
    "%matplotlib inline\n",
    "warnings.filterwarnings(\"ignore\")\n",
    "\n",
    "data = pd.read_csv(\"ign.csv\")[[\"title\", \"genre\", \"platform\", \"score_phrase\", \"score\", \"release_year\"]]     # create a dataFrame object with title, score and release_year\n",
    "\n",
    "games_by_year = data.sort('release_year')\n",
    "games_by_score = data.sort(\"score\")\n",
    "games_by_year.head()"
   ]
  },
  {
   "cell_type": "code",
   "execution_count": 2,
   "metadata": {
    "collapsed": true
   },
   "outputs": [],
   "source": [
    "# Counts the words in arr and returns a DataFrame which has a number of elements specified in see_how_many parameter\n",
    "# TODO: fix with_score\n",
    "def item_counter(arr, see_how_many, with_score):\n",
    "    item_dict = {}\n",
    "    for item in arr:\n",
    "        if item in item_dict:\n",
    "            item_dict[item] += 1\n",
    "        else:\n",
    "            item_dict[item] = 1\n",
    "\n",
    "    most_used = sorted(item_dict, key = item_dict.get, reverse=True)[:see_how_many]\n",
    "    \n",
    "    res = []\n",
    "    for item in most_used:\n",
    "        res.append((item, item_dict[item]))\n",
    "\n",
    "    df = pd.DataFrame.from_records(res, columns=(\"name\", \"frequency\"))\n",
    "    df.sort(\"frequency\")\n",
    "    return df"
   ]
  },
  {
   "cell_type": "code",
   "execution_count": 3,
   "metadata": {
    "collapsed": false,
    "scrolled": true
   },
   "outputs": [],
   "source": [
    "import numpy as np\n",
    "import nltk\n",
    "import re\n",
    "from nltk.corpus import stopwords\n",
    "\n",
    "# Gets rid of meaningless words, abbreviations, numbers, non-letter characters in order to obtain better results\n",
    "## not_wanted (list) - A list of words to avoid\n",
    "## game_names (pandas.DataFrame) - Game titles to iterate\n",
    "def preprocess(not_wanted, game_names):\n",
    "    words = []\n",
    "    for name in game_names:\n",
    "        words_in_name = nltk.word_tokenize(name)    # Split the game names by words and extend the words array\n",
    "        for i in range(0, len(words_in_name)):\n",
    "            re_form = re.sub(r'[^a-zA-Z ]', '', words_in_name[i]).split()    # The regular expression for words only, get rid of all non-letter characters\n",
    "            if (len(re_form) > 0 and  not (re_form[0].lower() in not_wanted) ):\n",
    "                words_in_name[i] = re_form[0].lower()    # As splitting names, lower the characters to help them be found in stopwords\n",
    "                words.append(words_in_name[i])\n",
    "                \n",
    "    sw = stopwords.words(\"english\")\n",
    "    # Get rid of stopwords and numbers in words array to analyze better.\n",
    "    for i in sw:\n",
    "        while i in words:\n",
    "            words.remove(i)\n",
    "                \n",
    "    return words"
   ]
  },
  {
   "cell_type": "code",
   "execution_count": 4,
   "metadata": {
    "collapsed": true
   },
   "outputs": [],
   "source": [
    "# Generates a bar graph from a given result DataFrame\n",
    "# TODO: find a way to widen the bar graph\n",
    "def make_bar_graph(result, x_axis, y_axis):\n",
    "    bar = result[[y_axis]].plot.bar(x=result[x_axis], legend=False, align=\"center\", width=1.0)\n",
    "    bar.set_ylabel(y_axis)"
   ]
  },
  {
   "cell_type": "code",
   "execution_count": 5,
   "metadata": {
    "collapsed": false
   },
   "outputs": [
    {
     "data": {
      "image/png": "[encoded data removed]",
      "text/plain": [
       "<matplotlib.figure.Figure at 0x7fd765bcb210>"
      ]
     },
     "metadata": {},
     "output_type": "display_data"
    }
   ],
   "source": [
    "DISTRACTIONS = [\"i\", \"ii\", \"iii\", \"iv\", \"v\", \"vi\", \"vii\", \"fifa\", \"nba\", \"nfl\", \"vs\", \"k\", \"one\", \"two\", \"three\", \"four\", \"pga\", \"nhl\", \"ncaa\"]\n",
    "\n",
    "# Shows the word frequency of game titles with a bar graph\n",
    "## make_graph (boolean) - Generates a bar graph if true, otherwise prints the standart pandas representation\n",
    "## how_many (number) - Number of game instances to show\n",
    "# TODO: words preprocessing can be inside of the item_counter\n",
    "def see_every_game_name(make_graph, how_many):\n",
    "    spec = data[\"title\"]\n",
    "    words = preprocess(DISTRACTIONS, spec)\n",
    "    \n",
    "    result = item_counter(words, how_many, False)\n",
    "    if make_graph:\n",
    "            make_bar_graph(result, 'name', 'frequency')\n",
    "    else:\n",
    "            return result\n",
    "        \n",
    "#see_every_game_name(True, 20)"
   ]
  },
  {
   "cell_type": "code",
   "execution_count": 6,
   "metadata": {
    "collapsed": false
   },
   "outputs": [],
   "source": [
    "# Shows the word frequency of game titles with a bar graph using a score limit\n",
    "## min_score (number) - Game names with scores >= min_score will be considered\n",
    "## make_graph (boolean) - Generates a bar graph if true, otherwise prints the standart pandas representation\n",
    "## how_many (number) - Number of game instances to show\n",
    "def see_game_names_with_score_limit(min_score, make_graph, how_many):\n",
    "    # games_by_score = data.sort(\"score\")       # optional #\n",
    "    spec = games_by_score.loc[games_by_score[\"score\"] >= min_score][\"title\"]\n",
    "    words = preprocess(DISTRACTIONS, spec)\n",
    "    \n",
    "    result = item_counter(words, how_many, False)\n",
    "    if make_graph:\n",
    "            make_bar_graph(result, 'name', 'frequency')\n",
    "    else:\n",
    "            return result\n",
    "\n",
    "see_game_names_with_score_limit(8.0, False, 30)"
   ]
  },
  {
   "cell_type": "code",
   "execution_count": 7,
   "metadata": {
    "collapsed": false,
    "scrolled": true
   },
   "outputs": [
    {
     "data": {
      "image/png": "[encoded data removed]",
      "text/plain": [
       "<matplotlib.figure.Figure at 0x7fd7a02851d0>"
      ]
     },
     "metadata": {},
     "output_type": "display_data"
    }
   ],
   "source": [
    "# Shows the word frequency of game titles with a bar graph using a classificiation (release_year, score_phrase etc) and a key (1996, \"Amazing\" etc.)\n",
    "## classification (string) - Column name to specify the data\n",
    "## key (string) - A key that is wanted to be matched to the classification column\n",
    "## make_graph (boolean) - Generates a bar graph if true, otherwise prints the standart pandas representation\n",
    "## how_many (number) - Number of game instances to show\n",
    "def see_game_names_with_key(classification, key, make_graph, how_many):\n",
    "    spec = games_by_year.loc[games_by_year[classification] == key][\"title\"]\n",
    "    words = preprocess(DISTRACTIONS, spec)\n",
    "    \n",
    "    result = item_counter(words, how_many, False)\n",
    "    if make_graph:\n",
    "        make_bar_graph(result, 'name', 'frequency')\n",
    "    else:\n",
    "        return result\n",
    "        \n",
    "see_game_names_with_key(\"score_phrase\", \"Bad\", True, 40)"
   ]
  },
  {
   "cell_type": "code",
   "execution_count": 8,
   "metadata": {
    "collapsed": false
   },
   "outputs": [],
   "source": [
    "see_game_names_with_key(\"release_year\", 2009, True, 20)"
   ]
  },
  {
   "cell_type": "markdown",
   "metadata": {},
   "source": [
    "//TODO: Generate game names that are > 7.5"
   ]
  }
 ],
 "metadata": {
  "celltoolbar": "Edit Metadata",
  "kernelspec": {
   "display_name": "Python 2",
   "language": "python",
   "name": "python2"
  },
  "language_info": {
   "codemirror_mode": {
    "name": "ipython",
    "version": 2
   },
   "file_extension": ".py",
   "mimetype": "text/x-python",
   "name": "python",
   "nbconvert_exporter": "python",
   "pygments_lexer": "ipython2",
   "version": "2.7.11"
  }
 },
 "nbformat": 4,
 "nbformat_minor": 0
}
